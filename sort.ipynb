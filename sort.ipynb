{
 "cells": [
  {
   "cell_type": "code",
   "execution_count": null,
   "metadata": {},
   "outputs": [],
   "source": [
    "import shutil, os\n",
    "import numpy as np\n",
    "import cv2\n",
    "from tqdm import tqdm\n",
    "from urllib.request import urlopen, Request\n",
    "from natsort import natsorted"
   ]
  },
  {
   "cell_type": "code",
   "execution_count": null,
   "metadata": {},
   "outputs": [],
   "source": [
    "path = 'files/'\n",
    "save_path = 'dataset/'\n",
    "\n",
    "headers = {'User-Agent': 'Mozilla/5.0 (Windows NT 6.1) AppleWebKit/537.36 (KHTML, like Gecko) Chrome/41.0.2228.0 Safari/537.3'}\n",
    "\n",
    "def url_to_image(url, face_location):\n",
    "    req = Request(url=url, headers=headers) \n",
    "    resp = urlopen(req)\n",
    "    image = np.asarray(bytearray(resp.read()), dtype=\"uint8\")\n",
    "    image = cv2.imdecode(image, cv2.IMREAD_COLOR)\n",
    "    top, right, bottom, left = face_location\n",
    "    face = image[top:bottom, left:right] \n",
    "    return face"
   ]
  },
  {
   "cell_type": "code",
   "execution_count": null,
   "metadata": {},
   "outputs": [],
   "source": [
    "for texts in tqdm(natsorted(os.listdir(path))): \n",
    "    texts_path = path + texts    \n",
    "    if os.path.exists(save_path + texts_path.split('/')[-1].split('.txt')[0]) == True:\n",
    "        data = open(texts_path, 'r', encoding='utf8').readlines()\n",
    "        for x in data:\n",
    "            try:\n",
    "                face_location = (int(float(x.split(' ')[3])),int(float(x.split(' ')[4])),int(float(x.split(' ')[5])),int(float(x.split(' ')[6])))\n",
    "                img = url_to_image(x.split(' ')[1], face_location)\n",
    "                img = cv2.resize(img, (128, 128))\n",
    "                cv2.imwrite(save_path + texts_path.split('/')[-1].split('.txt')[0] + '/' + str(x.split(' ')[0]) + '.jpg', img)\n",
    "            except:\n",
    "                continue"
   ]
  },
  {
   "cell_type": "code",
   "execution_count": null,
   "metadata": {},
   "outputs": [],
   "source": []
  }
 ],
 "metadata": {
  "kernelspec": {
   "display_name": "Python 3",
   "language": "python",
   "name": "python3"
  },
  "language_info": {
   "codemirror_mode": {
    "name": "ipython",
    "version": 3
   },
   "file_extension": ".py",
   "mimetype": "text/x-python",
   "name": "python",
   "nbconvert_exporter": "python",
   "pygments_lexer": "ipython3",
   "version": "3.8.5"
  }
 },
 "nbformat": 4,
 "nbformat_minor": 4
}
